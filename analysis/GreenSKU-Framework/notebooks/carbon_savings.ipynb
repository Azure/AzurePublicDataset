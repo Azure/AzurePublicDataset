{
 "cells": [
  {
   "cell_type": "markdown",
   "metadata": {},
   "source": [
    "# Reproducing carbon savings results\n",
    "\n",
    "This notebook will generate the carbon savings figures/results for the paper using the carbon model artifact. First we will [set up the environment](#Import-packages), then [set up model parameters](#setcalculate-configuration-constantsparameters), then we [reproduce results](#reproducing-table-v-server-configuration-carbon-savings).\n",
    "\n",
    "Please run through each cell in order to generate the figures. **All generated tables/figures will be saved into the `figures/generated_figures` directory**. You can either compare these directly against those in the paper or against the copies we provide in the `figures/paper_figures_original` directory.\n",
    "\n",
    "You will know when all the results have been generated once the following four files are created in the `figures/generated_figures` directory:\n",
    "- `cluster_savings.txt`\n",
    "- `dc_savings.txt`\n",
    "- `Figure_12.png`\n",
    "- `Table_V.csv`\n",
    "\n",
    "The results to reproduce, run times, and output locations are summarized here:\n",
    "\n",
    "| Result in paper to reproduce | Run time | Output file(s) | \n",
    "| --- | --- | --- |\n",
    "| [Last three columns of Table V](../figures/paper_figures_original/Table_V.csv) | < 1 minute | [`figures/generated_figures/Table_V.csv`](../figures/generated_figures/Table_V.csv) |\n",
    "| Appendix A.C claim: \"We re-calculate the average cluster-level savings to find an average of [**15%**](../figures/paper_figures_original/cluster_savings.txt)...\" | < 1 minute | [`figures/generated_figures/cluster_savings.txt`](../figures/generated_figures/cluster_savings.txt) (and `carbon_savings.ipynb` cell print output) |\n",
    "| Appendix A.C claim: \"... leading to an overall data center-level savings of [**8\\%**](../figures/generated_figures/dc_savings.txt).\" | < 1 minute | [`figures/generated_figures/dc_savings.txt`](../figures/generated_figures/dc_savings.txt) (and `carbon_savings.ipynb` cell print output) |\n",
    "| [Figure 12](../figures/paper_figures_original/Figure_12.png) | 1 minute | [`figures/generated_figures/Figure_12.png`](../figures/generated_figures/Table_V.csv) |\n",
    "\n",
    "Note: First column links to copies of the results, Table V, and Figure 12 from the paper. The links in last column will work only when figures are generated from the notebook."
   ]
  },
  {
   "cell_type": "markdown",
   "metadata": {},
   "source": [
    "## Import packages\n",
    "\n",
    "All packages should be installed in your Python environment prior to running this notebook. See the `requirements.txt` file for the list of packages."
   ]
  },
  {
   "cell_type": "code",
   "execution_count": null,
   "metadata": {},
   "outputs": [],
   "source": [
    "import sys\n",
    "sys.path.append('../')\n",
    "sys.path.append('../src')"
   ]
  },
  {
   "cell_type": "code",
   "execution_count": null,
   "metadata": {},
   "outputs": [],
   "source": [
    "from src.carbon_model import *\n",
    "from src.maintenance_model import *\n",
    "from tabulate import tabulate\n",
    "import matplotlib.pyplot as plt\n",
    "import pandas as pd\n",
    "import math\n",
    "import seaborn as sns\n",
    "import numpy as np"
   ]
  },
  {
   "cell_type": "markdown",
   "metadata": {},
   "source": [
    "## Set/calculate configuration constants/parameters\n",
    "\n",
    "There are a number of parameters that can be inputted to the model (beyond the server itself) that influence the carbon savings of a server design. These are:\n",
    "\n",
    "- [Carbon intensity (CI)](https://en.wikipedia.org/wiki/Emission_intensity) that the server is operating in (gCO2e/kWh)\n",
    "- The [Power Usage Effectiveness (PUE)](https://en.wikipedia.org/wiki/Power_usage_effectiveness) of the data center\n",
    "- The power utilization of the server, which is defined as a fraction of the maximum power draw of the server that is used by the server in practice (unitless)\n",
    "- The rate at which fan power scales with server power (unitless)\n",
    "\n",
    "Here, in each cell, we will derive/set these parameters to those used in the paper."
   ]
  },
  {
   "cell_type": "markdown",
   "metadata": {},
   "source": [
    "### Carbon intensity\n",
    "\n",
    "The carbon intensity is calculated based on a data file that gives a representative set of data centers and their respective carbon intensities. We include the data file we use in the paper and use this for the calculations in the paper.\n",
    "\n",
    "Each data center reports a percentage of renewable energy used. We then source the average grid intensity for that region. We then use average renewable carbon intensities (a rough estimate for solar + wind). Then the average carbon intensity for a data center is given by the formula:\n",
    "\n",
    "$$CI = (1 - \\text{renewable percentage}) \\times \\text{grid intensity} + \\text{renewable percentage} \\times \\text{renewable intensity}$$\n",
    "\n",
    "We then take the average of all data centers to get the average carbon intensity.\n"
   ]
  },
  {
   "cell_type": "code",
   "execution_count": null,
   "metadata": {},
   "outputs": [],
   "source": [
    "def calculate_average_dc_carbon_intensity(dc_data_csv):\n",
    "    \"\"\"\n",
    "    Calculate the average carbon intensity across a set of data centers in\n",
    "    kgCO2e/kWh.\n",
    "    \"\"\"\n",
    "    dc_data = pd.read_csv(dc_data_csv)\n",
    "    dc_data['carbon_intensity'] = (dc_data['Renewable %']/100) * dc_data['Avg Renewable Intensity'] + (1 - dc_data['Renewable %']/100) * dc_data['Avg Grid Intensity']\n",
    "    dc_data['carbon_intensity'] /= 1000 # Convert to kgCO2e/kWh\n",
    "    \n",
    "    return np.mean(dc_data['carbon_intensity'])"
   ]
  },
  {
   "cell_type": "code",
   "execution_count": null,
   "metadata": {},
   "outputs": [],
   "source": [
    "# This csv file contains provided data on Azure data centers, their respective\n",
    "# carbon intensities (estimated based on public data + location), and their\n",
    "# estimated weight in terms of usage.\n",
    "azure_dc_data = '../data/other_data/azure_dc_data.csv'\n",
    "\n",
    "# Calculate the average carbon intensity of Azure data centers, weighted by\n",
    "# usage of the data centers given the data.\n",
    "AVERAGE_AZURE_DATACENTER_CI = calculate_average_dc_carbon_intensity(azure_dc_data)\n",
    "print(f'Average Azure data center carbon intensity: {round(AVERAGE_AZURE_DATACENTER_CI, 2)} kgCO2e/kWh')"
   ]
  },
  {
   "cell_type": "markdown",
   "metadata": {},
   "source": [
    "### PUE\n",
    "\n",
    "The PUE is not calculated, but based on Azure's recent generations of data centers with [reported PUEs of 1.12](https://azure.microsoft.com/en-us/blog/how-microsoft-measures-datacenter-water-and-energy-use-to-improve-azure-cloud-sustainability/)."
   ]
  },
  {
   "cell_type": "code",
   "execution_count": null,
   "metadata": {},
   "outputs": [],
   "source": [
    "AZURE_DC_PUE = 1.12"
   ]
  },
  {
   "cell_type": "markdown",
   "metadata": {},
   "source": [
    "### Power utilization\n",
    "\n",
    "The power utilization is set to 0.66, based on [previous research](https://www.microsoft.com/en-us/research/publication/smartoclock-workload-and-risk-aware-overclocking-in-the-cloud/) published by Azure."
   ]
  },
  {
   "cell_type": "code",
   "execution_count": null,
   "metadata": {},
   "outputs": [],
   "source": [
    "POWER_UTILIZATION = 0.66"
   ]
  },
  {
   "cell_type": "markdown",
   "metadata": {},
   "source": [
    "### Fan power\n",
    "\n",
    "The fan power is defined by the rate at which fan power scales with server power. We calculate this fraction based on [reported data](https://www.servethehome.com/deep-dive-into-lowering-server-power-consumption-intel-inspur-hpe-dell-emc/) by fitting a linear model against fan power vs. server power. We then take the slope of this linear model to get the \"fan power slope\". We calculate fan power by taking the difference in server power with a baseline, and then increase the fan power according to the slope. We define baseline 1U and 2U server power by taking the power draw (without fans) of baseline 1U and 2U configurations."
   ]
  },
  {
   "cell_type": "code",
   "execution_count": null,
   "metadata": {},
   "outputs": [],
   "source": [
    "fan_power_csv = '../data/other_data/server_fan_power.csv'"
   ]
  },
  {
   "cell_type": "code",
   "execution_count": null,
   "metadata": {},
   "outputs": [],
   "source": [
    "def get_fan_power_model(power_csv, plot=True, normalized=False):\n",
    "    # load the data\n",
    "    df = pd.read_csv(power_csv)\n",
    "    # columns are 'server power' and 'fan power', drop rest\n",
    "    df = df[['server power', 'fan power']]\n",
    "    use_df = df\n",
    "    if normalized:\n",
    "        use_df['fan power'] = use_df['fan power'] / use_df['fan power'].max()\n",
    "    # fit linear model\n",
    "    linear_model = np.polyfit(use_df['server power'], use_df['fan power'], 1)\n",
    "    slope = linear_model[0]\n",
    "    intercept = linear_model[1]\n",
    "\n",
    "    if plot:\n",
    "        # plot the data\n",
    "        plt.scatter(use_df['server power'], use_df['fan power'], s=20, label='data', color='black')\n",
    "        # plot the polynomial model\n",
    "        x_max = use_df['server power'].max()\n",
    "        x = np.linspace(0, x_max, 100)\n",
    "        plt.plot(x, slope * x + intercept, label='model', color='red')\n",
    "        plt.xlabel('server power')\n",
    "        plt.ylabel('fan power')\n",
    "        plt.legend()\n",
    "        plt.show()\n",
    "        \n",
    "    return slope, intercept\n",
    "\n",
    "def get_server_power_no_fan(config, overwrite_params):\n",
    "    sc = ServerCarbon(config, overwrite_params=overwrite_params, print_out=False)\n",
    "    return round(sc.get_server_power_no_fan(), 2)"
   ]
  },
  {
   "cell_type": "code",
   "execution_count": null,
   "metadata": {},
   "outputs": [],
   "source": [
    "baseline_1U = \"../server_configs/Eval-Configs/Baseline.yaml\"\n",
    "baseline_2U = \"../server_configs/Eval-Configs/Baseline-2U.yaml\"\n",
    "\n",
    "baseline_params = {\n",
    "    'emissions_factor': AVERAGE_AZURE_DATACENTER_CI,\n",
    "    'PUE': AZURE_DC_PUE,\n",
    "    'power_factor': POWER_UTILIZATION,\n",
    "}\n",
    "\n",
    "# Get the server power without the fan\n",
    "BASELINE_1U = get_server_power_no_fan(baseline_1U, baseline_params)\n",
    "BASELINE_2U = get_server_power_no_fan(baseline_2U, baseline_params)\n"
   ]
  },
  {
   "cell_type": "code",
   "execution_count": null,
   "metadata": {},
   "outputs": [],
   "source": [
    "FAN_SLOPE = get_fan_power_model(fan_power_csv, plot=False)[0]\n",
    "print(f'Fan power slope: {round(FAN_SLOPE, 2)}')"
   ]
  },
  {
   "cell_type": "markdown",
   "metadata": {},
   "source": [
    "### Set parameters\n",
    "\n",
    "The parameters are set in a dictionary, which is passed into the model."
   ]
  },
  {
   "cell_type": "code",
   "execution_count": null,
   "metadata": {},
   "outputs": [],
   "source": [
    "EVAL_PARAMS = {\n",
    "    'emissions_factor': AVERAGE_AZURE_DATACENTER_CI,\n",
    "    'PUE': AZURE_DC_PUE,\n",
    "    'power_factor': POWER_UTILIZATION,\n",
    "    'fan_slope': FAN_SLOPE,\n",
    "}\n",
    "\n",
    "configs = [\n",
    "    \"../server_configs/Eval-Configs/Baseline.yaml\",\n",
    "    \"../server_configs/Eval-Configs/Baseline-Resized.yaml\",\n",
    "    \"../server_configs/Eval-Configs/GreenSKU-Bergamo.yaml\",\n",
    "    \"../server_configs/Eval-Configs/GreenSKU-CXL.yaml\",\n",
    "    \"../server_configs/Eval-Configs/GreenSKU-Full.yaml\",\n",
    "]"
   ]
  },
  {
   "cell_type": "markdown",
   "metadata": {},
   "source": [
    "## Reproducing **Table V**: server configuration carbon savings\n",
    "\n",
    "Table V in the paper shows the per-core carbon savings of different server configurations relative to the baseline. We will reproduce this table in the cells in this section."
   ]
  },
  {
   "cell_type": "code",
   "execution_count": null,
   "metadata": {},
   "outputs": [],
   "source": [
    "def calculate_steps(configs, frac=None, to_first=False, override_params={}, carbon_data=None, print_out=False):\n",
    "    '''\n",
    "    Calculate the carbon savings of a number of configs\n",
    "    '''\n",
    "    all_info = []\n",
    "    all_savings = []\n",
    "    for i, config in enumerate(configs):\n",
    "        sc = ServerCarbon(config, \n",
    "                          overwrite_params=override_params, \n",
    "                          data_source_dir=carbon_data,\n",
    "                          print_out=print_out)\n",
    "        info_dict = {\n",
    "            \"operational\": sc.get_operational_per_sellable_core(),\n",
    "            \"embodied\": sc.get_embodied_per_sellable_core(),\n",
    "            \"carbon\": sc.get_carbon_per_sellable_core(),\n",
    "        }\n",
    "        savings_dict = {}\n",
    "        if i > 0:\n",
    "            for k, v in info_dict.items():\n",
    "                if to_first:\n",
    "                    savings_dict[k] = int(round((all_info[0][k] - v)*100 / all_info[0][k], 0))\n",
    "                else:\n",
    "                    savings_dict[k] = int(round((all_info[i-1][k] - v)*100 / all_info[i-1][k], 0))\n",
    "        else:\n",
    "            for k, v in info_dict.items():\n",
    "                savings_dict[k] = 0\n",
    "        all_info.append(info_dict)\n",
    "        if frac is not None:\n",
    "            savings_dict['carbon'] = savings_dict['operational'] * frac + savings_dict['embodied'] * (1-frac)\n",
    "        all_savings.append(savings_dict)\n",
    "\n",
    "    # Add config names\n",
    "    for i, config in enumerate(configs):\n",
    "        config_name = config.split(\"/\")[-1].split(\".\")[0]\n",
    "        all_info[i][\"config\"] = config_name\n",
    "        all_savings[i][\"config\"] = config_name\n",
    "        # Make config the first key\n",
    "        all_info[i] = {k: all_info[i][k] for k in [\"config\"] + list(all_info[i].keys()) if k in all_info[i]}\n",
    "        all_savings[i] = {k: all_savings[i][k] for k in [\"config\"] + list(all_savings[i].keys()) if k in all_savings[i]}\n",
    "    \n",
    "    return all_info, all_savings"
   ]
  },
  {
   "cell_type": "code",
   "execution_count": null,
   "metadata": {},
   "outputs": [],
   "source": [
    "info, savings = calculate_steps(configs, to_first=True, override_params=EVAL_PARAMS, print_out=False)\n",
    "\n",
    "# Print savings in table\n",
    "savings_table = pd.DataFrame(savings)\n",
    "# Rename operational to operational savings\n",
    "savings_table = savings_table.rename(columns={\"config\": \"Config\", \"operational\": \"Operational Savings\", \"embodied\": \"Embodied Savings\", \"carbon\": \"Carbon Savings\"})\n",
    "print(tabulate(savings_table, headers=\"keys\", tablefmt=\"github\", showindex=False))\n",
    "pd.DataFrame(savings_table).to_csv(\"../figures/generated_figures/Table_V.csv\", index=False)"
   ]
  },
  {
   "cell_type": "markdown",
   "metadata": {},
   "source": [
    "## Reproducing reported **Average cluster and data center-level savings**\n",
    "\n",
    "In Appendix A, section C, we report the average cluster and data center-level savings. We will reproduce these results here.\n",
    "\n",
    "In the paper we state that:\n",
    "\n",
    "> We re-calculate the average cluster-level savings to find an average cluster-level of **14\\%**, leading to an overall data center-level savings of **7\\%**.\n",
    "\n",
    "We first reproduce the cluster-level savings, and then the data center-level savings. The data center-level savings are calculated by discounting the compute cluster savings by the fraction of the data center that is used for compute, which we derive from data used to generate Figure 1 in the paper."
   ]
  },
  {
   "cell_type": "code",
   "execution_count": null,
   "metadata": {},
   "outputs": [],
   "source": [
    "def process_csv(csv_file, og_config, new_config, params, buffer=0.1, weight_cluster=False, data_source_dir=\"../data/carbon_data\"):\n",
    "    \"\"\"\n",
    "    Calculate average cluster-level savings at a single carbon intensity setting (which can be given in the params).\n",
    "    Savings are calculated for the new server config file compared to the original server config file.\n",
    "\n",
    "    Args:\n",
    "        csv_file (str): Path to the csv file containing the cluster-level data.\n",
    "        og_config (str): Path to the original server config file.\n",
    "        new_config (str): Path to the new server config file.\n",
    "        params (dict): Dictionary of parameters to overwrite.\n",
    "        buffer (float): Growth buffer fraction to add to the cluster size. \n",
    "                        Default is 0.1, which is a flat value that we provide as \n",
    "                        we are unable to provide the exact equations used to \n",
    "                        calculate the overhead, but 10% is a reasonable average.\n",
    "        weight_cluster (bool): Whether to weight the savings by the cluster size.\n",
    "\n",
    "    Returns:\n",
    "        pd.DataFrame: DataFrame containing the cluster-level data.\n",
    "        float: Average cluster-level savings.\n",
    "    \"\"\"\n",
    "\n",
    "    # Read in the cluster-level data\n",
    "    df = pd.read_csv(csv_file)\n",
    "\n",
    "    # Get the server carbon and maintenance models for the original and new server configs\n",
    "    og_sc = ServerCarbon(og_config, overwrite_params=params, print_out=False, data_source_dir=data_source_dir)\n",
    "    new_sc = ServerCarbon(new_config, overwrite_params=params, print_out=False, data_source_dir=data_source_dir)\n",
    "\n",
    "    og_maintenance = ServerMaintenance(og_config, \"../data/AFR_data/afr_data.yaml\", overwrite_params=params, carbon_data_dir=data_source_dir)\n",
    "    new_maintenance = ServerMaintenance(new_config, \"../data/AFR_data/afr_data.yaml\", overwrite_params=params, carbon_data_dir=data_source_dir)\n",
    "\n",
    "    # Get the per-server carbon (amortized)\n",
    "    og_server_carbon = og_sc.get_per_server_carbon()\n",
    "    new_server_carbon = new_sc.get_per_server_carbon()\n",
    "\n",
    "    # Get the per-server maintenance overhead (i.e., fraction of servers out of service annually)\n",
    "    og_maintenance_overhead = 1 + og_maintenance.get_AFRs()\n",
    "    new_maintenance_overhead = 1 + new_maintenance.get_AFRs()\n",
    "\n",
    "    # Calculate the original cluster-level carbon of the baseline-only cluster\n",
    "    df['OriginalClusterSize'] = df['OriginalClusterSize'].astype(int)\n",
    "    df['num_buffer'] = df['OriginalClusterSize'] * buffer # Calculate the number of servers in the growth buffer\n",
    "    df['num_og_buffer'] = df['num_buffer'].apply(lambda x: math.ceil(x))\n",
    "    df['start_og_carbon'] = (df['OriginalClusterSize'] + df['num_og_buffer']) * og_server_carbon * og_maintenance_overhead\n",
    "\n",
    "    # Repeat calculation for the new cluster-level carbon of the [GreenSKU + baseline] cluster\n",
    "    # The buffer calculation is based on the total number of cores - so we need to calculate the total number of cores in the cluster\n",
    "    df['total_num_buffer'] = (df['NewClusterSize_Baseline'] * og_sc.get_vcores() + df['NewClusterSize_GreenSKU'] * new_sc.get_vcores()) * buffer / og_sc.get_vcores()\n",
    "    df['total_num_buffer'] = df['total_num_buffer'].apply(lambda x: math.ceil(x))\n",
    "    df['total_carbon'] = (df['NewClusterSize_Baseline'] + df['total_num_buffer']) * og_server_carbon * og_maintenance_overhead + df['NewClusterSize_GreenSKU'] * new_server_carbon * new_maintenance_overhead\n",
    "    \n",
    "    # Calculate the percentage saved carbon of the new cluster compared to the original cluster\n",
    "    df['perc_saved_carbon'] = (df['start_og_carbon'] - df['total_carbon']) * 100 / df['start_og_carbon']\n",
    "    average_saved_carbon = df[\"perc_saved_carbon\"].mean()\n",
    "    \n",
    "    # Get weight average by OriginalClusterSize\n",
    "    weighted_average_saved_carbon = np.average(df[\"perc_saved_carbon\"], weights=df[\"OriginalClusterSize\"])\n",
    "    if weight_cluster:\n",
    "        return df, weighted_average_saved_carbon\n",
    "\n",
    "    return df, average_saved_carbon"
   ]
  },
  {
   "cell_type": "code",
   "execution_count": null,
   "metadata": {},
   "outputs": [],
   "source": [
    "cluster_data = \"../data/other_data/cluster_data.csv\"\n",
    "df, avg_carbon = process_csv(cluster_data, configs[0], configs[4], EVAL_PARAMS, buffer=0.1, weight_cluster=True)\n",
    "cluster_savings = int(round(avg_carbon, 0))\n",
    "\n",
    "# Save output to txt\n",
    "with open(\"../figures/generated_figures/cluster_savings.txt\", \"w\") as f:\n",
    "    f.write(f\"Average cluster-level savings: {cluster_savings}%\")\n",
    "\n",
    "print(f\"AVERAGE CLUSTER-LEVEL SAVINGS: {cluster_savings}%\")"
   ]
  },
  {
   "cell_type": "code",
   "execution_count": null,
   "metadata": {},
   "outputs": [],
   "source": [
    "# We take the following data from the carbon breakdown Figure 1 in the paper\n",
    "operational_it = 0.868                  # fraction of DC operational that is IT\n",
    "embodied_it = 0.948                     # fraction of DC embodied that is IT\n",
    "operational_compute_of_it = 0.779       # fraction of IT operational that is compute\n",
    "embodied_compute_of_it = 0.442          # fraction of IT embodied that is compute\n",
    "\n",
    "compute_operational = operational_it * operational_compute_of_it\n",
    "compute_embodied = embodied_it * embodied_compute_of_it\n",
    "\n",
    "# We weight the operational and embodied savings by using the fraction of the\n",
    "# baseline server carbon (at rack scale) that is operational and embodied\n",
    "baseline_sc = ServerCarbon(configs[0], overwrite_params=EVAL_PARAMS, print_out=False)\n",
    "baseline_operational_fraction = baseline_sc.get_rack_perc_operational() / 100\n",
    "\n",
    "# Calculate the weighted savings from cluster to data center level\n",
    "cluster_dc_fraction = compute_operational * baseline_operational_fraction + compute_embodied * (1 - baseline_operational_fraction)"
   ]
  },
  {
   "cell_type": "code",
   "execution_count": null,
   "metadata": {},
   "outputs": [],
   "source": [
    "dc_savings = cluster_savings * cluster_dc_fraction\n",
    "dc_savings = int(round(dc_savings, 0))\n",
    "\n",
    "with open(\"../figures/generated_figures/dc_savings.txt\", \"w\") as f:\n",
    "    f.write(f\"Average data center-level savings: {dc_savings}%\")\n",
    "\n",
    "print(f\"AVERAGE DATA CENTER-LEVEL SAVINGS: {dc_savings}%\")"
   ]
  },
  {
   "cell_type": "markdown",
   "metadata": {},
   "source": [
    "## Reproducing **Figure 12**: carbon savings vs. carbon intensity"
   ]
  },
  {
   "cell_type": "code",
   "execution_count": null,
   "metadata": {},
   "outputs": [],
   "source": [
    "plot_configs = [\n",
    "    configs[0], # Baseline\n",
    "    configs[2], # GreenSKU-Bergamo\n",
    "    configs[3], # GreenSKU-CXL\n",
    "    configs[4], # GreenSKU-Full\n",
    "]\n",
    "\n",
    "google_data = '../data/other_data/google_dc_data.csv'\n",
    "azure_data = '../data/other_data/azure_dc_data.csv'"
   ]
  },
  {
   "cell_type": "code",
   "execution_count": null,
   "metadata": {},
   "outputs": [],
   "source": [
    "CI_steps = [0.025 * i for i in range(51)]\n",
    "trace_config_data = []\n",
    "override_params = EVAL_PARAMS.copy()\n",
    "\n",
    "for config in plot_configs[1:]:\n",
    "    config_carbon_savings = []\n",
    "    config_name = config.split(\"/\")[-1].split(\".\")[0]\n",
    "    for step in CI_steps:\n",
    "        override_params[\"emissions_factor\"] = step\n",
    "        _, carbon_saving = process_csv(cluster_data, plot_configs[0], config, override_params, buffer=0.1, weight_cluster=True)\n",
    "        config_carbon_savings.append(carbon_saving)\n",
    "    trace_config_data.append({\"config\": config_name, \"carbon_savings\": config_carbon_savings})"
   ]
  },
  {
   "cell_type": "code",
   "execution_count": null,
   "metadata": {},
   "outputs": [],
   "source": [
    "def get_dc_region_intensity(region_name, dc_data_csv):\n",
    "    dc_data = pd.read_csv(dc_data_csv)\n",
    "    dc_data['carbon_intensity'] = (dc_data['Renewable %']/100) * dc_data['Avg Renewable Intensity'] + (1 - dc_data['Renewable %']/100) * dc_data['Avg Grid Intensity']\n",
    "    dc_data['carbon_intensity'] /= 1000 # Convert to kgCO2e/kWh\n",
    "    return dc_data[dc_data['Region'] == region_name]['carbon_intensity'].values[0]"
   ]
  },
  {
   "cell_type": "code",
   "execution_count": null,
   "metadata": {},
   "outputs": [],
   "source": [
    "# Plot carbon savings relative to 0 for each config\n",
    "grid_mix = 0.35\n",
    "sns.set_style(\"whitegrid\")\n",
    "fig, ax = plt.subplots(figsize=(6, 1.5))\n",
    "config_labels = [\n",
    "    \"GreenSKU-Bergamo\",\n",
    "    \"GreenSKU-CXL\",\n",
    "    \"GreenSKU-Full\",\n",
    "]\n",
    "\n",
    "blue = \"#0072B2\"\n",
    "green = \"#009E73\"\n",
    "orange = \"#E69F00\"\n",
    "yellow = \"#E69F00\"\n",
    "red = \"#D55E00\"\n",
    "black = \"#000000\"\n",
    "light_blue = \"#56B4E9\"\n",
    "pink = \"#CC79A7\"\n",
    "colors = [\n",
    "    green,\n",
    "    green,\n",
    "    green\n",
    "]\n",
    "\n",
    "linestyles = [\n",
    "    \"solid\",\n",
    "    \"dotted\",\n",
    "    \"dashed\"\n",
    "]\n",
    "azure_dcs = [\n",
    "    'ussouth',\n",
    "    'useast',\n",
    "]\n",
    "google_dcs = [\n",
    "    'us-south1',\n",
    "    'us-east1'\n",
    "]\n",
    "azure_intensities = [get_dc_region_intensity(dc, azure_data) for dc in azure_dcs]\n",
    "google_intensities = [get_dc_region_intensity(dc, google_data) for dc in google_dcs]\n",
    "intensities = azure_intensities + google_intensities\n",
    "intensity_colors = [\n",
    "    \"purple\",\n",
    "    \"darkorange\",\n",
    "    \"blue\",\n",
    "    \"black\",\n",
    "]\n",
    "annotations = [\n",
    "    \"Azure\\nus-south\",\n",
    "    \"Azure\\nus-east\",\n",
    "    \"Google\\nus-south1\",\n",
    "    \"Google\\nus-east1\"\n",
    "]\n",
    "\n",
    "# Plot carbon savings for each config across carbon intensities\n",
    "for i, config in enumerate(trace_config_data):\n",
    "    ax.plot(CI_steps, \n",
    "            config[\"carbon_savings\"], \n",
    "            label=config_labels[i], \n",
    "            color=colors[i], \n",
    "            linestyle=linestyles[i], \n",
    "            linewidth=2.2)\n",
    "\n",
    "# Plot carbon intensity annotations\n",
    "for i, intensity in enumerate(intensities):\n",
    "    ax.axvline(x=intensity, color=intensity_colors[i], linestyle=\"-\", alpha=0.2, linewidth=8)\n",
    "    ax.annotate(annotations[i], xy=(intensity, 0.5), xycoords=\"data\", ha=\"center\", fontsize=9, color=intensity_colors[i], alpha=1)\n",
    "\n",
    "# Set plot parameters\n",
    "ax.set_xlim([0, 0.4])\n",
    "ax.set_ylim([0, 25])\n",
    "ax.set_ylim(bottom=0)\n",
    "# ax.set_yticks(np.arange(0, 30, 10))\n",
    "ax.set_xlabel(\"Carbon intensity (kgCO$\\mathregular{_2}$e/kWh)\", fontsize=10)\n",
    "ax.set_ylabel(\"Cluster carbon\\nsavings (%)\", fontsize=10)\n",
    "\n",
    "# Set legend above plot\n",
    "ax.legend(loc=\"upper center\", bbox_to_anchor=(0.665, 1.02), ncol=2, fontsize=9)\n",
    "\n",
    "# Save plot to file\n",
    "plt.savefig(\"../figures/generated_figures/Figure_12.png\", bbox_inches=\"tight\", dpi=500)"
   ]
  }
 ],
 "metadata": {
  "kernelspec": {
   "display_name": "venv",
   "language": "python",
   "name": "python3"
  },
  "language_info": {
   "codemirror_mode": {
    "name": "ipython",
    "version": 3
   },
   "file_extension": ".py",
   "mimetype": "text/x-python",
   "name": "python",
   "nbconvert_exporter": "python",
   "pygments_lexer": "ipython3",
   "version": "3.9.19"
  }
 },
 "nbformat": 4,
 "nbformat_minor": 2
}
